{
 "cells": [
  {
   "cell_type": "code",
   "execution_count": null,
   "metadata": {},
   "outputs": [],
   "source": [
    "!pip install geemap"
   ]
  },
  {
   "cell_type": "code",
   "execution_count": 1,
   "metadata": {},
   "outputs": [],
   "source": [
    "#Import libraries\n",
    "import geemap\n",
    "import ee"
   ]
  },
  {
   "cell_type": "code",
   "execution_count": 2,
   "metadata": {},
   "outputs": [
    {
     "data": {
      "application/vnd.jupyter.widget-view+json": {
       "model_id": "9dcb10afcd8747369de1078cbfc4f4b9",
       "version_major": 2,
       "version_minor": 0
      },
      "text/plain": [
       "Map(center=[20, 0], controls=(WidgetControl(options=['position', 'transparent_bg'], widget=HBox(children=(Togg…"
      ]
     },
     "metadata": {},
     "output_type": "display_data"
    }
   ],
   "source": [
    "# Create a default map\n",
    "Map = geemap.Map()\n",
    "Map"
   ]
  },
  {
   "cell_type": "code",
   "execution_count": 3,
   "metadata": {},
   "outputs": [],
   "source": [
    "#Load AOI - Punjab Pakistan\n",
    "AOI = ee.FeatureCollection(\"FAO/GAUL_SIMPLIFIED_500m/2015/level1\").filterMetadata('ADM1_CODE','equals',2276)"
   ]
  },
  {
   "cell_type": "code",
   "execution_count": 4,
   "metadata": {},
   "outputs": [],
   "source": [
    "#Select the image collection\n",
    "S2_2020 = (ee.ImageCollection(\"COPERNICUS/S2_SR\")\n",
    ".filterDate('2020-06-01', '2020-08-07')\n",
    ".filterBounds(AOI)\n",
    ".filterMetadata('CLOUD_COVERAGE_ASSESSMENT', 'less_than', 20)\n",
    ".filterMetadata('NODATA_PIXEL_PERCENTAGE', 'less_than', 10)\n",
    ".select([\"B2\",\"B3\",\"B4\",\"B8\" ]))"
   ]
  },
  {
   "cell_type": "code",
   "execution_count": 5,
   "metadata": {},
   "outputs": [],
   "source": [
    "#Applying reducers\n",
    "S2_2020min = S2_2020.reduce(ee.Reducer.min())\n",
    "S2_2020max = S2_2020.reduce(ee.Reducer.max())\n",
    "S2_2020median = S2_2020.median()"
   ]
  },
  {
   "cell_type": "code",
   "execution_count": 6,
   "metadata": {},
   "outputs": [],
   "source": [
    "#Define visualization parameters\n",
    "imageVisParamMin = {\"bands\":[\"B8_min\",\"B4_min\",\"B3_min\"],\"min\":-640,\"max\":5000}\n",
    "imageVisParamMax = {\"bands\":[\"B8_max\",\"B4_max\",\"B3_max\"],\"min\":-640,\"max\":5000}\n",
    "imageVisParamMed = {\"bands\":[\"B8\",\"B4\",\"B3\"],\"min\":-640,\"max\":5000}"
   ]
  },
  {
   "cell_type": "code",
   "execution_count": 9,
   "metadata": {},
   "outputs": [],
   "source": [
    "#Display the image\n",
    "Map.addLayer(S2_2020min, imageVisParamMin, \"Min\")\n",
    "Map.addLayer(S2_2020max, imageVisParamMax, \"Max\")\n",
    "Map.addLayer(S2_2020median, imageVisParamMed, \"Median\")\n",
    "Map.centerObject(AOI, 10)"
   ]
  }
 ],
 "metadata": {
  "kernelspec": {
   "display_name": "Python 3 (ipykernel)",
   "language": "python",
   "name": "python3"
  },
  "language_info": {
   "codemirror_mode": {
    "name": "ipython",
    "version": 3
   },
   "file_extension": ".py",
   "mimetype": "text/x-python",
   "name": "python",
   "nbconvert_exporter": "python",
   "pygments_lexer": "ipython3",
   "version": "3.9.12"
  }
 },
 "nbformat": 4,
 "nbformat_minor": 4
}
