{
 "cells": [
  {
   "cell_type": "code",
   "execution_count": null,
   "metadata": {},
   "outputs": [],
   "source": [
    "!pip install geemap"
   ]
  },
  {
   "cell_type": "code",
   "execution_count": 1,
   "metadata": {},
   "outputs": [],
   "source": [
    "#Import libraries\n",
    "import geemap\n",
    "import ee"
   ]
  },
  {
   "cell_type": "code",
   "execution_count": 2,
   "metadata": {},
   "outputs": [
    {
     "data": {
      "application/vnd.jupyter.widget-view+json": {
       "model_id": "2e8756732b564cffb1aca6d8c0b60fc6",
       "version_major": 2,
       "version_minor": 0
      },
      "text/plain": [
       "Map(center=[20, 0], controls=(WidgetControl(options=['position', 'transparent_bg'], widget=HBox(children=(Togg…"
      ]
     },
     "metadata": {},
     "output_type": "display_data"
    }
   ],
   "source": [
    "# Create a default map\n",
    "Map = geemap.Map()\n",
    "Map"
   ]
  },
  {
   "cell_type": "code",
   "execution_count": 3,
   "metadata": {},
   "outputs": [],
   "source": [
    "#Define the AOI\n",
    "\n",
    "AOI = ee.Geometry.Polygon(\n",
    "        [[[70.02038912643296, 29.066908999332483],\n",
    "          [70.96521334518296, 28.759167768949126],\n",
    "          [71.78918795455796, 28.99966866527025],\n",
    "          [72.78894381393296, 30.09873783230251],\n",
    "          [71.99792818893296, 30.70517582387117],\n",
    "          [71.05310397018296, 30.771275942300644],\n",
    "          [69.86658053268296, 29.59369566035666]]])"
   ]
  },
  {
   "cell_type": "code",
   "execution_count": 4,
   "metadata": {},
   "outputs": [],
   "source": [
    "#Create a variable with the whole S2 image collection\n",
    "S2 = ee.ImageCollection(\"COPERNICUS/S2_SR\")"
   ]
  },
  {
   "cell_type": "code",
   "execution_count": 5,
   "metadata": {},
   "outputs": [],
   "source": [
    "#Select only images in a date range\n",
    "S2_2020 = ee.ImageCollection(\"COPERNICUS/S2_SR\").filterDate('2020-01-01', '2020-08-07')"
   ]
  },
  {
   "cell_type": "code",
   "execution_count": 6,
   "metadata": {},
   "outputs": [],
   "source": [
    "#A more advanced selection\n",
    "S2_sel = (ee.ImageCollection(\"COPERNICUS/S2_SR\")\n",
    ".filterDate('2018-07-01', '2020-10-30')\n",
    ".filter(ee.Filter.calendarRange(7,7,'month'))\n",
    ".filterBounds(AOI)\n",
    ".filterMetadata('CLOUD_COVERAGE_ASSESSMENT', 'less_than', 20)\n",
    ".filterMetadata('NODATA_PIXEL_PERCENTAGE', 'less_than', 10)\n",
    ".select([\"B2\",\"B3\",\"B4\",\"B8\" ]))"
   ]
  },
  {
   "cell_type": "code",
   "execution_count": 7,
   "metadata": {},
   "outputs": [],
   "source": [
    "#Define visualization parameters\n",
    "imageVisParam = {\"bands\":[\"B8\",\"B4\",\"B3\"],\"min\":-640,\"max\":5000}"
   ]
  },
  {
   "cell_type": "code",
   "execution_count": 12,
   "metadata": {},
   "outputs": [],
   "source": [
    "#DISPLAY ONLY ONE SINGLE IMAGE\n",
    "\n",
    "#Select the first image\n",
    "firstImage = S2_sel.first()\n",
    "\n",
    "#Select the most recent\n",
    "mostRecent = S2_sel.sort('system:time_start', False).first() #False is in descending order\n",
    "\n",
    "#Select the less clouded image\n",
    "lessCloudy = S2_sel.sort('CLOUD_COVERAGE_ASSESSMENT', True).first() #False is in descending order"
   ]
  },
  {
   "cell_type": "code",
   "execution_count": 15,
   "metadata": {},
   "outputs": [],
   "source": [
    "#Display the image\n",
    "Map.addLayer(lessCloudy, imageVisParam, \"First image\")\n",
    "Map.centerObject(lessCloudy, 10)"
   ]
  }
 ],
 "metadata": {
  "kernelspec": {
   "display_name": "Python 3 (ipykernel)",
   "language": "python",
   "name": "python3"
  },
  "language_info": {
   "codemirror_mode": {
    "name": "ipython",
    "version": 3
   },
   "file_extension": ".py",
   "mimetype": "text/x-python",
   "name": "python",
   "nbconvert_exporter": "python",
   "pygments_lexer": "ipython3",
   "version": "3.9.12"
  }
 },
 "nbformat": 4,
 "nbformat_minor": 4
}
